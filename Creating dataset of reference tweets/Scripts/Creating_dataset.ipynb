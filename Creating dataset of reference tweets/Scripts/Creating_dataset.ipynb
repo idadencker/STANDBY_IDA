{
 "cells": [
  {
   "cell_type": "markdown",
   "id": "19738d37-1769-465f-a414-eeea3a606059",
   "metadata": {},
   "source": [
    "# Loading and filtering data"
   ]
  },
  {
   "cell_type": "code",
   "execution_count": null,
   "id": "4435c95d-c8f6-4088-b9dd-a395192b19e3",
   "metadata": {},
   "outputs": [],
   "source": [
    "#load pacakges \n",
    "!pip install pandas\n",
    "\n",
    "import pandas as pd \n"
   ]
  },
  {
   "cell_type": "code",
   "execution_count": null,
   "id": "bc7a94d8-d507-463f-b6a1-3e533ad8ffb6",
   "metadata": {},
   "outputs": [],
   "source": [
    "# Load in the scored csv file\n",
    "scored_tweets= pd.read_csv('/Users/idahelenedencker/Desktop/STANDBY/Rec-nition and attack on twitter data/CSV files/twitter_w_rec_attack.csv')\n",
    "replies = scored_tweets[scored_tweets['referenced_tweets_type'] == 'replied_to']\n",
    "#filter to replied_to"
   ]
  },
  {
   "cell_type": "code",
   "execution_count": null,
   "id": "a709e820-bdae-4317-8a68-3de84743591d",
   "metadata": {},
   "outputs": [],
   "source": [
    "# look at performance of algorithms\n",
    "\n",
    "#pull up text examples\n",
    "attack= replies[replies['attack'] == 1]\n",
    "print(attack['text'][:100])\n",
    "\n",
    "rec_nition= replies[replies['rec-nition'] == 1]\n",
    "print(rec_nition['text'][:100])"
   ]
  },
  {
   "cell_type": "markdown",
   "id": "c498b404-8b21-4f06-b0d8-2e8592a5a3d2",
   "metadata": {},
   "source": [
    "## Limiting the df to 10.000"
   ]
  },
  {
   "cell_type": "code",
   "execution_count": null,
   "id": "58ff0597-8a0b-482b-854a-ce540d0970d8",
   "metadata": {},
   "outputs": [],
   "source": [
    "#random sampling\n",
    "replies_short= replies.sample(10000)\n"
   ]
  },
  {
   "cell_type": "code",
   "execution_count": null,
   "id": "a2b36199-947a-463d-93a5-38b5164c2b71",
   "metadata": {},
   "outputs": [],
   "source": [
    "# stratified sampling"
   ]
  },
  {
   "cell_type": "code",
   "execution_count": null,
   "id": "a7420c17-5bfd-4b45-aa2e-49d10e88a6e4",
   "metadata": {},
   "outputs": [],
   "source": [
    "# word embeddings"
   ]
  }
 ],
 "metadata": {
  "kernelspec": {
   "display_name": "Python 3 (ipykernel)",
   "language": "python",
   "name": "python3"
  },
  "language_info": {
   "codemirror_mode": {
    "name": "ipython",
    "version": 3
   },
   "file_extension": ".py",
   "mimetype": "text/x-python",
   "name": "python",
   "nbconvert_exporter": "python",
   "pygments_lexer": "ipython3",
   "version": "3.11.5"
  }
 },
 "nbformat": 4,
 "nbformat_minor": 5
}
